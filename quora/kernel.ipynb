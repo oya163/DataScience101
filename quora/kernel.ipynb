{
  "cells": [
    {
      "metadata": {
        "_uuid": "8f2839f25d086af736a60e9eeb907d3b93b6e0e5",
        "_cell_guid": "b1076dfc-b9ad-4769-8c92-a6c4dae69d19",
        "trusted": true
      },
      "cell_type": "code",
      "source": "# This Python 3 environment comes with many helpful analytics libraries installed\n# It is defined by the kaggle/python docker image: https://github.com/kaggle/docker-python\n# For example, here's several helpful packages to load in \n\nimport numpy as np # linear algebra\nimport pandas as pd # data processing, CSV file I/O (e.g. pd.read_csv)\n\nimport sys\nimport unicodedata as un\n\n# Input data files are available in the \"../input/\" directory.\n# For example, running this (by clicking run or pressing Shift+Enter) will list the files in the input directory\n\nimport os\nprint(os.listdir(\"../input/\"))\n\n# Any results you write to the current directory are saved as output.\npd.set_option('display.max_colwidth', -1)",
      "execution_count": null,
      "outputs": []
    },
    {
      "metadata": {
        "_cell_guid": "79c7e3d0-c299-4dcb-8224-4455121ee9b0",
        "_uuid": "d629ff2d2480ee46fbb7e2d37f6b5fab8052498a",
        "trusted": true
      },
      "cell_type": "code",
      "source": "train_path = '../input/train.csv'\ntest_path = '../input/test.csv'\ntrain_df = pd.read_csv(train_path)\ntest_df = pd.read_csv(test_path)\ntrain_df = train_df.drop(['qid'], axis=1)\ntest_df = test_df.drop(['qid'], axis=1)",
      "execution_count": null,
      "outputs": []
    },
    {
      "metadata": {
        "trusted": true,
        "_uuid": "51a997d03e5f8df45e4f7a9f3c947bc917feffc1"
      },
      "cell_type": "code",
      "source": "train_df.head()",
      "execution_count": null,
      "outputs": []
    },
    {
      "metadata": {
        "trusted": true,
        "_uuid": "1f80faccaede10c6bb5c58b54ce53fced591a950"
      },
      "cell_type": "code",
      "source": "test_df.head()",
      "execution_count": null,
      "outputs": []
    },
    {
      "metadata": {
        "trusted": true,
        "_uuid": "45073ec523b9c4168ac1ebc8e70bee562926f55d"
      },
      "cell_type": "code",
      "source": "# Drop the column which is not necessary\ntrain_df = train_df.drop(['qid'], axis=1)\ntest_df = test_df.drop(['qid'], axis=1)\ntrain_df.head()",
      "execution_count": null,
      "outputs": []
    },
    {
      "metadata": {
        "trusted": true,
        "_uuid": "523268e8e37582b081a3f64803d84e67a3376903"
      },
      "cell_type": "code",
      "source": "train_df.sample()",
      "execution_count": null,
      "outputs": []
    },
    {
      "metadata": {
        "trusted": true,
        "_uuid": "79c58bc2a19f1fc16192b416ada1a28a0ef91ea5"
      },
      "cell_type": "code",
      "source": "# Count the number of rows with each label\ntrain_df.groupby('target').count()",
      "execution_count": null,
      "outputs": []
    },
    {
      "metadata": {
        "trusted": true,
        "_uuid": "da95acb276e4ec3522228d24bd4d544bb6f056b0"
      },
      "cell_type": "code",
      "source": "# To see what insincere question looks like\ntrain_df.where(train_df.target == 1).dropna().sample(10)",
      "execution_count": null,
      "outputs": []
    },
    {
      "metadata": {
        "trusted": true,
        "_uuid": "77ceeb888bc8ec76ca843203d61753732b080501"
      },
      "cell_type": "code",
      "source": "# To see what insincere question looks like\ntrain_df.where(train_df.target == 0).dropna().sample(10)",
      "execution_count": null,
      "outputs": []
    },
    {
      "metadata": {
        "trusted": true,
        "_uuid": "6aaf70c91c789347d4f12eb3fa9c2619da9c368b"
      },
      "cell_type": "code",
      "source": "# train_df['question_text'] = train_df['question_text'].str.replace('?','').str.replace('\"','').str.lower()",
      "execution_count": null,
      "outputs": []
    },
    {
      "metadata": {
        "trusted": true,
        "_uuid": "18ece0e885a412b27503a8f13eca23f05779b27b"
      },
      "cell_type": "code",
      "source": "train_df.sample(10)",
      "execution_count": null,
      "outputs": []
    },
    {
      "metadata": {
        "trusted": true,
        "_uuid": "aaea3260de992473403407efedde20114cb67758"
      },
      "cell_type": "code",
      "source": "train_df['question_text'] = train_df['question_text'].str.lower()",
      "execution_count": null,
      "outputs": []
    },
    {
      "metadata": {
        "trusted": true,
        "_uuid": "c0fc0d221843c2d0b3e4600e3cd9ffccc2d608a0"
      },
      "cell_type": "code",
      "source": "train_df.sample(20)",
      "execution_count": null,
      "outputs": []
    },
    {
      "metadata": {
        "trusted": true,
        "_uuid": "c59cc0cd9aef37357110d433dac016100ded2826"
      },
      "cell_type": "code",
      "source": "table = dict.fromkeys(i for i in range(sys.maxunicode) \n                        if not un.category(chr(i)).startswith(('Ll'))\n                        and (i != 32 or i >= 122))",
      "execution_count": null,
      "outputs": []
    },
    {
      "metadata": {
        "trusted": true,
        "_uuid": "d15071ad97d6fc53615822bd13d1792948f59055"
      },
      "cell_type": "code",
      "source": "train_df['question_text'] = train_df['question_text'].str.translate(table)",
      "execution_count": null,
      "outputs": []
    },
    {
      "metadata": {
        "trusted": true,
        "_uuid": "591c5dfa48c2941ebf963657155dbd0890cce7c6"
      },
      "cell_type": "code",
      "source": "train_df.sample(10)",
      "execution_count": null,
      "outputs": []
    },
    {
      "metadata": {
        "trusted": true,
        "_uuid": "5495b408a97b97be7b2646fca70d03735da0f66e"
      },
      "cell_type": "code",
      "source": "",
      "execution_count": null,
      "outputs": []
    }
  ],
  "metadata": {
    "kernelspec": {
      "display_name": "Python 3",
      "language": "python",
      "name": "python3"
    },
    "language_info": {
      "name": "python",
      "version": "3.6.6",
      "mimetype": "text/x-python",
      "codemirror_mode": {
        "name": "ipython",
        "version": 3
      },
      "pygments_lexer": "ipython3",
      "nbconvert_exporter": "python",
      "file_extension": ".py"
    }
  },
  "nbformat": 4,
  "nbformat_minor": 1
}