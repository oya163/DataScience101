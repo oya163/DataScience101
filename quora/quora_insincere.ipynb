{
 "cells": [
  {
   "cell_type": "code",
   "execution_count": 1,
   "metadata": {
    "_cell_guid": "b1076dfc-b9ad-4769-8c92-a6c4dae69d19",
    "_uuid": "8f2839f25d086af736a60e9eeb907d3b93b6e0e5"
   },
   "outputs": [],
   "source": [
    "%matplotlib inline\n",
    "import os, sys\n",
    "import re\n",
    "import string\n",
    "import pathlib\n",
    "import random\n",
    "from collections import Counter, OrderedDict\n",
    "import numpy as np\n",
    "import pandas as pd\n",
    "import matplotlib.pyplot as plt\n",
    "import seaborn as sns\n",
    "import spacy\n",
    "from tqdm import tqdm, tqdm_notebook, tnrange\n",
    "tqdm.pandas(desc='Progress')\n",
    "\n",
    "import torch\n",
    "import torch.nn as nn\n",
    "import torch.optim as optim\n",
    "from torch.autograd import Variable\n",
    "import torch.nn.functional as F\n",
    "from torch.nn.utils.rnn import pack_padded_sequence, pad_packed_sequence\n",
    "\n",
    "import torchtext\n",
    "from torchtext import data\n",
    "from torchtext import vocab\n",
    "\n",
    "from sklearn.model_selection import StratifiedShuffleSplit, train_test_split\n",
    "from sklearn.metrics import accuracy_score\n",
    "\n",
    "from IPython.core.interactiveshell import InteractiveShell\n",
    "InteractiveShell.ast_node_interactivity='all'\n",
    "\n",
    "import warnings\n",
    "warnings.filterwarnings('ignore')\n",
    "\n",
    "device = torch.device(\"cuda:0\" if torch.cuda.is_available() else \"cpu\")\n",
    "\n",
    "pd.set_option('display.max_colwidth', -1)"
   ]
  },
  {
   "cell_type": "code",
   "execution_count": 2,
   "metadata": {
    "_cell_guid": "79c7e3d0-c299-4dcb-8224-4455121ee9b0",
    "_uuid": "d629ff2d2480ee46fbb7e2d37f6b5fab8052498a"
   },
   "outputs": [],
   "source": [
    "data_root = pathlib.Path('./input')"
   ]
  },
  {
   "cell_type": "code",
   "execution_count": 3,
   "metadata": {
    "_cell_guid": "79c7e3d0-c299-4dcb-8224-4455121ee9b0",
    "_uuid": "d629ff2d2480ee46fbb7e2d37f6b5fab8052498a"
   },
   "outputs": [],
   "source": [
    "train_path = './input/train.csv/train.csv'\n",
    "test_path = './input/test.csv/test.csv'\n",
    "train_df = pd.read_csv(train_path)\n",
    "test_df = pd.read_csv(test_path)\n",
    "# train_df = train_df.drop(['qid'], axis=1)\n",
    "# test_df = test_df.drop(['qid'], axis=1)"
   ]
  },
  {
   "cell_type": "code",
   "execution_count": 4,
   "metadata": {},
   "outputs": [
    {
     "data": {
      "text/plain": [
       "(1306122, 3)"
      ]
     },
     "execution_count": 4,
     "metadata": {},
     "output_type": "execute_result"
    }
   ],
   "source": [
    "train_df.shape"
   ]
  },
  {
   "cell_type": "code",
   "execution_count": 5,
   "metadata": {},
   "outputs": [
    {
     "data": {
      "text/html": [
       "<div>\n",
       "<style scoped>\n",
       "    .dataframe tbody tr th:only-of-type {\n",
       "        vertical-align: middle;\n",
       "    }\n",
       "\n",
       "    .dataframe tbody tr th {\n",
       "        vertical-align: top;\n",
       "    }\n",
       "\n",
       "    .dataframe thead th {\n",
       "        text-align: right;\n",
       "    }\n",
       "</style>\n",
       "<table border=\"1\" class=\"dataframe\">\n",
       "  <thead>\n",
       "    <tr style=\"text-align: right;\">\n",
       "      <th></th>\n",
       "      <th>qid</th>\n",
       "      <th>question_text</th>\n",
       "      <th>target</th>\n",
       "    </tr>\n",
       "  </thead>\n",
       "  <tbody>\n",
       "    <tr>\n",
       "      <th>378504</th>\n",
       "      <td>4a30ab74b82c54c30662</td>\n",
       "      <td>Why were prophet Muhammad's companions so sex-starved that they wanted to castrate themselves?</td>\n",
       "      <td>1.0</td>\n",
       "    </tr>\n",
       "    <tr>\n",
       "      <th>826813</th>\n",
       "      <td>a209200f46d83d3ee618</td>\n",
       "      <td>Why cant I just fucking die?</td>\n",
       "      <td>1.0</td>\n",
       "    </tr>\n",
       "    <tr>\n",
       "      <th>610982</th>\n",
       "      <td>77a61d96717e6f2dcc40</td>\n",
       "      <td>Are you trying to argue that women haven't been historically oppressed and denied power? I'd say this is more toxic than accounting a historical fiction.</td>\n",
       "      <td>1.0</td>\n",
       "    </tr>\n",
       "    <tr>\n",
       "      <th>991978</th>\n",
       "      <td>c25e2de7494d6c1b00eb</td>\n",
       "      <td>Why do most republicans think so highly of themselves?</td>\n",
       "      <td>1.0</td>\n",
       "    </tr>\n",
       "    <tr>\n",
       "      <th>1048082</th>\n",
       "      <td>cd5e8fd07ad70d91a6ef</td>\n",
       "      <td>What makes some Quora users believe that they are superior to other Quora users? Because I know and understand who David Hilbert is, do my questions about Marmosets make me less intelligent?</td>\n",
       "      <td>1.0</td>\n",
       "    </tr>\n",
       "    <tr>\n",
       "      <th>1293384</th>\n",
       "      <td>fd7da84d8b97bb2c155a</td>\n",
       "      <td>Have Americans just become informants and snitches for the US government?</td>\n",
       "      <td>1.0</td>\n",
       "    </tr>\n",
       "    <tr>\n",
       "      <th>605028</th>\n",
       "      <td>767aea485906197dcf14</td>\n",
       "      <td>When did the Mongolian Gypsies (Turks of Turkey) decide to stop migrating all over the world and settle in Anatolia? Why did the UK and France give them other people’s land? Was it to stop these Gypsy/Nomads from coming to Europe?</td>\n",
       "      <td>1.0</td>\n",
       "    </tr>\n",
       "    <tr>\n",
       "      <th>388468</th>\n",
       "      <td>4c1a558d8ca38b864e18</td>\n",
       "      <td>Why aren't tourists given a gun when they visit the US? I feel it's only fair given the fact that they're defenseless against multiple gun owners?</td>\n",
       "      <td>1.0</td>\n",
       "    </tr>\n",
       "    <tr>\n",
       "      <th>720674</th>\n",
       "      <td>8d13dd1e74049d293fa7</td>\n",
       "      <td>What does it say about me that I cannot type Hillary Clinton as Hillary Clinton 99% of the time?</td>\n",
       "      <td>1.0</td>\n",
       "    </tr>\n",
       "    <tr>\n",
       "      <th>1020076</th>\n",
       "      <td>c7e479f3fbd3984eb2ff</td>\n",
       "      <td>What is the point of having Puerto Rico a part of the united states? They don't seem to bring anything positive to the US.</td>\n",
       "      <td>1.0</td>\n",
       "    </tr>\n",
       "  </tbody>\n",
       "</table>\n",
       "</div>"
      ],
      "text/plain": [
       "                          qid  \\\n",
       "378504   4a30ab74b82c54c30662   \n",
       "826813   a209200f46d83d3ee618   \n",
       "610982   77a61d96717e6f2dcc40   \n",
       "991978   c25e2de7494d6c1b00eb   \n",
       "1048082  cd5e8fd07ad70d91a6ef   \n",
       "1293384  fd7da84d8b97bb2c155a   \n",
       "605028   767aea485906197dcf14   \n",
       "388468   4c1a558d8ca38b864e18   \n",
       "720674   8d13dd1e74049d293fa7   \n",
       "1020076  c7e479f3fbd3984eb2ff   \n",
       "\n",
       "                                                                                                                                                                                                                                  question_text  \\\n",
       "378504   Why were prophet Muhammad's companions so sex-starved that they wanted to castrate themselves?                                                                                                                                           \n",
       "826813   Why cant I just fucking die?                                                                                                                                                                                                             \n",
       "610982   Are you trying to argue that women haven't been historically oppressed and denied power? I'd say this is more toxic than accounting a historical fiction.                                                                                \n",
       "991978   Why do most republicans think so highly of themselves?                                                                                                                                                                                   \n",
       "1048082  What makes some Quora users believe that they are superior to other Quora users? Because I know and understand who David Hilbert is, do my questions about Marmosets make me less intelligent?                                           \n",
       "1293384  Have Americans just become informants and snitches for the US government?                                                                                                                                                                \n",
       "605028   When did the Mongolian Gypsies (Turks of Turkey) decide to stop migrating all over the world and settle in Anatolia? Why did the UK and France give them other people’s land? Was it to stop these Gypsy/Nomads from coming to Europe?   \n",
       "388468   Why aren't tourists given a gun when they visit the US? I feel it's only fair given the fact that they're defenseless against multiple gun owners?                                                                                       \n",
       "720674   What does it say about me that I cannot type Hillary Clinton as Hillary Clinton 99% of the time?                                                                                                                                         \n",
       "1020076  What is the point of having Puerto Rico a part of the united states? They don't seem to bring anything positive to the US.                                                                                                               \n",
       "\n",
       "         target  \n",
       "378504   1.0     \n",
       "826813   1.0     \n",
       "610982   1.0     \n",
       "991978   1.0     \n",
       "1048082  1.0     \n",
       "1293384  1.0     \n",
       "605028   1.0     \n",
       "388468   1.0     \n",
       "720674   1.0     \n",
       "1020076  1.0     "
      ]
     },
     "execution_count": 5,
     "metadata": {},
     "output_type": "execute_result"
    }
   ],
   "source": [
    "# To see what insincere question looks like\n",
    "train_df.where(train_df.target == 1).dropna().sample(10)"
   ]
  },
  {
   "cell_type": "code",
   "execution_count": 6,
   "metadata": {},
   "outputs": [
    {
     "data": {
      "text/html": [
       "<div>\n",
       "<style scoped>\n",
       "    .dataframe tbody tr th:only-of-type {\n",
       "        vertical-align: middle;\n",
       "    }\n",
       "\n",
       "    .dataframe tbody tr th {\n",
       "        vertical-align: top;\n",
       "    }\n",
       "\n",
       "    .dataframe thead th {\n",
       "        text-align: right;\n",
       "    }\n",
       "</style>\n",
       "<table border=\"1\" class=\"dataframe\">\n",
       "  <thead>\n",
       "    <tr style=\"text-align: right;\">\n",
       "      <th></th>\n",
       "      <th>qid</th>\n",
       "      <th>question_text</th>\n",
       "      <th>target</th>\n",
       "    </tr>\n",
       "  </thead>\n",
       "  <tbody>\n",
       "    <tr>\n",
       "      <th>19954</th>\n",
       "      <td>03e9961181c9ce700d99</td>\n",
       "      <td>Why does Peter Hitchens say there is 'no politics in the Conservative Party'?</td>\n",
       "      <td>0.0</td>\n",
       "    </tr>\n",
       "    <tr>\n",
       "      <th>696089</th>\n",
       "      <td>885356e8ed57b8884da1</td>\n",
       "      <td>What is the scariest thing that’s happened to you?</td>\n",
       "      <td>0.0</td>\n",
       "    </tr>\n",
       "    <tr>\n",
       "      <th>925657</th>\n",
       "      <td>b5674f821c6133a4b938</td>\n",
       "      <td>What's your best tip to make a sale?</td>\n",
       "      <td>0.0</td>\n",
       "    </tr>\n",
       "    <tr>\n",
       "      <th>1058672</th>\n",
       "      <td>cf71a3f6b8ecc2f4ab33</td>\n",
       "      <td>What are the type of Integrin?</td>\n",
       "      <td>0.0</td>\n",
       "    </tr>\n",
       "    <tr>\n",
       "      <th>502394</th>\n",
       "      <td>625e46b5e60864e70780</td>\n",
       "      <td>Is resistivity &amp; specific resistance same thing?</td>\n",
       "      <td>0.0</td>\n",
       "    </tr>\n",
       "    <tr>\n",
       "      <th>462446</th>\n",
       "      <td>5a8e1f1443e61aa2b57a</td>\n",
       "      <td>How can I create a data model for airport analysis including it's safety and security features?</td>\n",
       "      <td>0.0</td>\n",
       "    </tr>\n",
       "    <tr>\n",
       "      <th>193996</th>\n",
       "      <td>25ee049601d837d13e0b</td>\n",
       "      <td>How do I make messy diagrams look attractive in a presentation?</td>\n",
       "      <td>0.0</td>\n",
       "    </tr>\n",
       "    <tr>\n",
       "      <th>387146</th>\n",
       "      <td>4bd885f0b38f684cbe44</td>\n",
       "      <td>How many engines do F1 teams use during testing?</td>\n",
       "      <td>0.0</td>\n",
       "    </tr>\n",
       "    <tr>\n",
       "      <th>1194583</th>\n",
       "      <td>ea1e25be1832bd53480d</td>\n",
       "      <td>Would it be right to blame the 2008 crisis on the rating agencies .The Right rating would have given the right direction while taking risk?</td>\n",
       "      <td>0.0</td>\n",
       "    </tr>\n",
       "    <tr>\n",
       "      <th>783854</th>\n",
       "      <td>998fadf60b22dcc6a606</td>\n",
       "      <td>What is the extension of the hip?</td>\n",
       "      <td>0.0</td>\n",
       "    </tr>\n",
       "  </tbody>\n",
       "</table>\n",
       "</div>"
      ],
      "text/plain": [
       "                          qid  \\\n",
       "19954    03e9961181c9ce700d99   \n",
       "696089   885356e8ed57b8884da1   \n",
       "925657   b5674f821c6133a4b938   \n",
       "1058672  cf71a3f6b8ecc2f4ab33   \n",
       "502394   625e46b5e60864e70780   \n",
       "462446   5a8e1f1443e61aa2b57a   \n",
       "193996   25ee049601d837d13e0b   \n",
       "387146   4bd885f0b38f684cbe44   \n",
       "1194583  ea1e25be1832bd53480d   \n",
       "783854   998fadf60b22dcc6a606   \n",
       "\n",
       "                                                                                                                                       question_text  \\\n",
       "19954    Why does Peter Hitchens say there is 'no politics in the Conservative Party'?                                                                 \n",
       "696089   What is the scariest thing that’s happened to you?                                                                                            \n",
       "925657   What's your best tip to make a sale?                                                                                                          \n",
       "1058672  What are the type of Integrin?                                                                                                                \n",
       "502394   Is resistivity & specific resistance same thing?                                                                                              \n",
       "462446   How can I create a data model for airport analysis including it's safety and security features?                                               \n",
       "193996   How do I make messy diagrams look attractive in a presentation?                                                                               \n",
       "387146   How many engines do F1 teams use during testing?                                                                                              \n",
       "1194583  Would it be right to blame the 2008 crisis on the rating agencies .The Right rating would have given the right direction while taking risk?   \n",
       "783854   What is the extension of the hip?                                                                                                             \n",
       "\n",
       "         target  \n",
       "19954    0.0     \n",
       "696089   0.0     \n",
       "925657   0.0     \n",
       "1058672  0.0     \n",
       "502394   0.0     \n",
       "462446   0.0     \n",
       "193996   0.0     \n",
       "387146   0.0     \n",
       "1194583  0.0     \n",
       "783854   0.0     "
      ]
     },
     "execution_count": 6,
     "metadata": {},
     "output_type": "execute_result"
    }
   ],
   "source": [
    "# To see what sincere question looks like\n",
    "train_df.where(train_df.target == 0).dropna().sample(10)"
   ]
  },
  {
   "cell_type": "code",
   "execution_count": 7,
   "metadata": {},
   "outputs": [
    {
     "data": {
      "image/png": "[encoded data removed]",
      "text/plain": [
       "<Figure size 576x360 with 1 Axes>"
      ]
     },
     "metadata": {
      "needs_background": "light"
     },
     "output_type": "display_data"
    }
   ],
   "source": [
    "def plot_dist(data=train_df, data_type='Train'):\n",
    "    fig = plt.figure(figsize=(8,5))\n",
    "    uniques = data.target.unique()\n",
    "    counts = data.target.value_counts()\n",
    "    ax = sns.barplot(x=uniques,y=counts, dodge=False, hue=['0','1'])\n",
    "\n",
    "    ax.set(xlabel='Labels')\n",
    "    ax.set(ylabel='Counts')\n",
    "    handles, _ = ax.get_legend_handles_labels()\n",
    "    ax.legend(handles, [\"Positive\", \"Negative\"])\n",
    "    plt.title(data_type + ' dataset distribution by positive and negative questions')\n",
    "    plt.show()\n",
    "    \n",
    "plot_dist(train_df)"
   ]
  },
  {
   "cell_type": "code",
   "execution_count": 8,
   "metadata": {},
   "outputs": [
    {
     "name": "stderr",
     "output_type": "stream",
     "text": [
      "Progress: 100%|██████████████████████████████████████████████████| 1306122/1306122 [00:04<00:00, 283370.91it/s]\n"
     ]
    }
   ],
   "source": [
    "train_df['question_text'] = train_df.question_text.progress_apply(lambda x: re.sub('\\n', ' ', x))"
   ]
  },
  {
   "cell_type": "code",
   "execution_count": 14,
   "metadata": {},
   "outputs": [],
   "source": [
    "def split_train_test(df, test_size=0.2):\n",
    "    train, val = train_test_split(df, test_size=test_size,random_state=42)\n",
    "    return train.reset_index(drop=True), val.reset_index(drop=True)"
   ]
  },
  {
   "cell_type": "code",
   "execution_count": 16,
   "metadata": {},
   "outputs": [],
   "source": [
    "traindf, valdf = split_train_test(train_df, test_size=0.2)"
   ]
  },
  {
   "cell_type": "code",
   "execution_count": 62,
   "metadata": {},
   "outputs": [
    {
     "data": {
      "text/plain": [
       "(1044897, 3)"
      ]
     },
     "execution_count": 62,
     "metadata": {},
     "output_type": "execute_result"
    },
    {
     "data": {
      "text/plain": [
       "(261225, 3)"
      ]
     },
     "execution_count": 62,
     "metadata": {},
     "output_type": "execute_result"
    }
   ],
   "source": [
    "traindf.shape\n",
    "valdf.shape"
   ]
  },
  {
   "cell_type": "code",
   "execution_count": 63,
   "metadata": {},
   "outputs": [],
   "source": [
    "traindf.to_csv(data_root/'traindf.csv', index=False)\n",
    "valdf.to_csv(data_root/'valdf.csv', index=False)"
   ]
  },
  {
   "cell_type": "code",
   "execution_count": 64,
   "metadata": {},
   "outputs": [
    {
     "data": {
      "text/plain": [
       "'How did Quebec nationalists see their province as a nation in the 1960s?'"
      ]
     },
     "execution_count": 64,
     "metadata": {},
     "output_type": "execute_result"
    }
   ],
   "source": [
    "train_df['question_text'][0]"
   ]
  },
  {
   "cell_type": "code",
   "execution_count": 65,
   "metadata": {},
   "outputs": [],
   "source": [
    "nlp = spacy.load('en',disable=['parser', 'tagger', 'ner'])\n",
    "def tokenizer(s): return [w.text.lower() for w in nlp(tweet_clean(s))]"
   ]
  },
  {
   "cell_type": "code",
   "execution_count": 66,
   "metadata": {},
   "outputs": [],
   "source": [
    "def tweet_clean(text):\n",
    "    text = re.sub(r'[^A-Za-z0-9]+', ' ', text) # remove non alphanumeric character\n",
    "    text = re.sub(r'https?:/\\/\\S+', ' ', text) # remove links\n",
    "    return text.strip()"
   ]
  },
  {
   "cell_type": "code",
   "execution_count": 76,
   "metadata": {},
   "outputs": [],
   "source": [
    "TEXT = data.Field(sequential=True, tokenize=tokenizer, include_lengths=True, use_vocab=True)\n",
    "LABEL = data.Field(sequential=False, use_vocab=False, pad_token=None, unk_token=None)\n",
    "\n",
    "train_fields = [\n",
    "    ('qid', None),\n",
    "    ('question_text', TEXT),\n",
    "    ('target', LABEL)\n",
    "]"
   ]
  },
  {
   "cell_type": "code",
   "execution_count": 77,
   "metadata": {},
   "outputs": [
    {
     "data": {
      "text/plain": [
       "(1044897, 261225)"
      ]
     },
     "execution_count": 77,
     "metadata": {},
     "output_type": "execute_result"
    }
   ],
   "source": [
    "len(trainds), len(valds)"
   ]
  },
  {
   "cell_type": "code",
   "execution_count": 78,
   "metadata": {},
   "outputs": [
    {
     "name": "stdout",
     "output_type": "stream",
     "text": [
      "Wall time: 14min 42s\n"
     ]
    }
   ],
   "source": [
    "%%time\n",
    "trainds, valds = data.TabularDataset.splits(path='./input/', format='csv', \n",
    "                                            train='traindf.csv', validation='valdf.csv', \n",
    "                                            fields=train_fields, skip_header=True)"
   ]
  },
  {
   "cell_type": "code",
   "execution_count": 80,
   "metadata": {},
   "outputs": [
    {
     "data": {
      "text/plain": [
       "dict_items([('qid', None), ('question_text', <torchtext.data.field.Field object at 0x000001EADBC814E0>), ('target', <torchtext.data.field.Field object at 0x000001EADBC81518>)])"
      ]
     },
     "execution_count": 80,
     "metadata": {},
     "output_type": "execute_result"
    },
    {
     "data": {
      "text/plain": [
       "'0'"
      ]
     },
     "execution_count": 80,
     "metadata": {},
     "output_type": "execute_result"
    },
    {
     "data": {
      "text/plain": [
       "['how',\n",
       " 'is',\n",
       " 'strategic',\n",
       " 'positioning',\n",
       " 'is',\n",
       " 'different',\n",
       " 'from',\n",
       " 'marketing',\n",
       " 'positioning']"
      ]
     },
     "execution_count": 80,
     "metadata": {},
     "output_type": "execute_result"
    }
   ],
   "source": [
    "ex = trainds.examples[0]\n",
    "trainds.fields.items()\n",
    "ex.target\n",
    "ex.question_text"
   ]
  },
  {
   "cell_type": "code",
   "execution_count": 87,
   "metadata": {},
   "outputs": [
    {
     "name": "stderr",
     "output_type": "stream",
     "text": [
      "  0%|                                                                               | 0/258110 [00:00<?, ?it/s]Skipping token b'258110' with 1-dimensional vector [b'50']; likely a header\n",
      " 99%|██████████████████████████████████████████████████████████████▋| 256657/258110 [00:14<00:00, 12829.02it/s]"
     ]
    },
    {
     "name": "stdout",
     "output_type": "stream",
     "text": [
      "Wall time: 16.3 s\n"
     ]
    },
    {
     "name": "stderr",
     "output_type": "stream",
     "text": [
      "\r",
      " 99%|██████████████████████████████████████████████████████████████▋| 256657/258110 [00:30<00:00, 12829.02it/s]"
     ]
    }
   ],
   "source": [
    "%%time\n",
    "vec = vocab.Vectors('word2vec.txt', './input/')"
   ]
  },
  {
   "cell_type": "code",
   "execution_count": null,
   "metadata": {},
   "outputs": [],
   "source": []
  }
 ],
 "metadata": {
  "kernelspec": {
   "display_name": "Python 3",
   "language": "python",
   "name": "python3"
  },
  "language_info": {
   "codemirror_mode": {
    "name": "ipython",
    "version": 3
   },
   "file_extension": ".py",
   "mimetype": "text/x-python",
   "name": "python",
   "nbconvert_exporter": "python",
   "pygments_lexer": "ipython3",
   "version": "3.7.0"
  }
 },
 "nbformat": 4,
 "nbformat_minor": 1
}
