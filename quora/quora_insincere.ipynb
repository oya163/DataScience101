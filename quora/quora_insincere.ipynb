{
 "cells": [
  {
   "cell_type": "code",
   "execution_count": 2,
   "metadata": {
    "_cell_guid": "b1076dfc-b9ad-4769-8c92-a6c4dae69d19",
    "_uuid": "8f2839f25d086af736a60e9eeb907d3b93b6e0e5"
   },
   "outputs": [],
   "source": [
    "%matplotlib inline\n",
    "import os, sys\n",
    "import re\n",
    "import string\n",
    "import pathlib\n",
    "import random\n",
    "from collections import Counter, OrderedDict\n",
    "import numpy as np\n",
    "import pandas as pd\n",
    "import matplotlib.pyplot as plt\n",
    "import seaborn as sns\n",
    "import spacy\n",
    "from tqdm import tqdm, tqdm_notebook, tnrange\n",
    "tqdm.pandas(desc='Progress')\n",
    "\n",
    "import torch\n",
    "import torch.nn as nn\n",
    "import torch.optim as optim\n",
    "from torch.autograd import Variable\n",
    "import torch.nn.functional as F\n",
    "from torch.nn.utils.rnn import pack_padded_sequence, pad_packed_sequence\n",
    "\n",
    "import torchtext\n",
    "from torchtext import data\n",
    "from torchtext import vocab\n",
    "\n",
    "from sklearn.model_selection import StratifiedShuffleSplit, train_test_split\n",
    "from sklearn.metrics import accuracy_score\n",
    "\n",
    "from IPython.core.interactiveshell import InteractiveShell\n",
    "InteractiveShell.ast_node_interactivity='all'\n",
    "\n",
    "import warnings\n",
    "warnings.filterwarnings('ignore')\n",
    "\n",
    "device = torch.device(\"cuda:0\" if torch.cuda.is_available() else \"cpu\")\n",
    "\n",
    "pd.set_option('display.max_colwidth', -1)"
   ]
  },
  {
   "cell_type": "code",
   "execution_count": 3,
   "metadata": {
    "_cell_guid": "79c7e3d0-c299-4dcb-8224-4455121ee9b0",
    "_uuid": "d629ff2d2480ee46fbb7e2d37f6b5fab8052498a"
   },
   "outputs": [],
   "source": [
    "data_root = pathlib.Path('./input')"
   ]
  },
  {
   "cell_type": "code",
   "execution_count": 4,
   "metadata": {
    "_cell_guid": "79c7e3d0-c299-4dcb-8224-4455121ee9b0",
    "_uuid": "d629ff2d2480ee46fbb7e2d37f6b5fab8052498a"
   },
   "outputs": [],
   "source": [
    "train_path = './input/train.csv/train.csv'\n",
    "test_path = './input/test.csv/test.csv'\n",
    "train_df = pd.read_csv(train_path)\n",
    "test_df = pd.read_csv(test_path)\n",
    "# train_df = train_df.drop(['qid'], axis=1)\n",
    "# test_df = test_df.drop(['qid'], axis=1)"
   ]
  },
  {
   "cell_type": "code",
   "execution_count": 5,
   "metadata": {},
   "outputs": [
    {
     "data": {
      "text/html": [
       "<div>\n",
       "<style scoped>\n",
       "    .dataframe tbody tr th:only-of-type {\n",
       "        vertical-align: middle;\n",
       "    }\n",
       "\n",
       "    .dataframe tbody tr th {\n",
       "        vertical-align: top;\n",
       "    }\n",
       "\n",
       "    .dataframe thead th {\n",
       "        text-align: right;\n",
       "    }\n",
       "</style>\n",
       "<table border=\"1\" class=\"dataframe\">\n",
       "  <thead>\n",
       "    <tr style=\"text-align: right;\">\n",
       "      <th></th>\n",
       "      <th>qid</th>\n",
       "      <th>question_text</th>\n",
       "      <th>target</th>\n",
       "    </tr>\n",
       "  </thead>\n",
       "  <tbody>\n",
       "    <tr>\n",
       "      <th>0</th>\n",
       "      <td>00002165364db923c7e6</td>\n",
       "      <td>How did Quebec nationalists see their province as a nation in the 1960s?</td>\n",
       "      <td>0</td>\n",
       "    </tr>\n",
       "    <tr>\n",
       "      <th>1</th>\n",
       "      <td>000032939017120e6e44</td>\n",
       "      <td>Do you have an adopted dog, how would you encourage people to adopt and not shop?</td>\n",
       "      <td>0</td>\n",
       "    </tr>\n",
       "    <tr>\n",
       "      <th>2</th>\n",
       "      <td>0000412ca6e4628ce2cf</td>\n",
       "      <td>Why does velocity affect time? Does velocity affect space geometry?</td>\n",
       "      <td>0</td>\n",
       "    </tr>\n",
       "    <tr>\n",
       "      <th>3</th>\n",
       "      <td>000042bf85aa498cd78e</td>\n",
       "      <td>How did Otto von Guericke used the Magdeburg hemispheres?</td>\n",
       "      <td>0</td>\n",
       "    </tr>\n",
       "    <tr>\n",
       "      <th>4</th>\n",
       "      <td>0000455dfa3e01eae3af</td>\n",
       "      <td>Can I convert montra helicon D to a mountain bike by just changing the tyres?</td>\n",
       "      <td>0</td>\n",
       "    </tr>\n",
       "  </tbody>\n",
       "</table>\n",
       "</div>"
      ],
      "text/plain": [
       "                    qid  \\\n",
       "0  00002165364db923c7e6   \n",
       "1  000032939017120e6e44   \n",
       "2  0000412ca6e4628ce2cf   \n",
       "3  000042bf85aa498cd78e   \n",
       "4  0000455dfa3e01eae3af   \n",
       "\n",
       "                                                                       question_text  \\\n",
       "0  How did Quebec nationalists see their province as a nation in the 1960s?            \n",
       "1  Do you have an adopted dog, how would you encourage people to adopt and not shop?   \n",
       "2  Why does velocity affect time? Does velocity affect space geometry?                 \n",
       "3  How did Otto von Guericke used the Magdeburg hemispheres?                           \n",
       "4  Can I convert montra helicon D to a mountain bike by just changing the tyres?       \n",
       "\n",
       "   target  \n",
       "0  0       \n",
       "1  0       \n",
       "2  0       \n",
       "3  0       \n",
       "4  0       "
      ]
     },
     "execution_count": 5,
     "metadata": {},
     "output_type": "execute_result"
    }
   ],
   "source": [
    "train_df.head()"
   ]
  },
  {
   "cell_type": "code",
   "execution_count": 6,
   "metadata": {},
   "outputs": [
    {
     "data": {
      "text/html": [
       "<div>\n",
       "<style scoped>\n",
       "    .dataframe tbody tr th:only-of-type {\n",
       "        vertical-align: middle;\n",
       "    }\n",
       "\n",
       "    .dataframe tbody tr th {\n",
       "        vertical-align: top;\n",
       "    }\n",
       "\n",
       "    .dataframe thead th {\n",
       "        text-align: right;\n",
       "    }\n",
       "</style>\n",
       "<table border=\"1\" class=\"dataframe\">\n",
       "  <thead>\n",
       "    <tr style=\"text-align: right;\">\n",
       "      <th></th>\n",
       "      <th>qid</th>\n",
       "      <th>question_text</th>\n",
       "      <th>target</th>\n",
       "    </tr>\n",
       "  </thead>\n",
       "  <tbody>\n",
       "    <tr>\n",
       "      <th>895386</th>\n",
       "      <td>af6c68985f6531308aa5</td>\n",
       "      <td>Would it be legal for Trump to order soldiers to shoot undocumented immigrants?</td>\n",
       "      <td>1.0</td>\n",
       "    </tr>\n",
       "    <tr>\n",
       "      <th>908402</th>\n",
       "      <td>b1ff7c81869c86f3a904</td>\n",
       "      <td>Is Elon Musk a man or a woman?</td>\n",
       "      <td>1.0</td>\n",
       "    </tr>\n",
       "    <tr>\n",
       "      <th>522783</th>\n",
       "      <td>6657d77c6b8861eeada2</td>\n",
       "      <td>Do Hindus who have converted to Islam eat beef?</td>\n",
       "      <td>1.0</td>\n",
       "    </tr>\n",
       "    <tr>\n",
       "      <th>191145</th>\n",
       "      <td>255f0a44c4204122faf2</td>\n",
       "      <td>Why aren't women/ girls hot?</td>\n",
       "      <td>1.0</td>\n",
       "    </tr>\n",
       "    <tr>\n",
       "      <th>503804</th>\n",
       "      <td>62a5382b75d1c6cd7a9f</td>\n",
       "      <td>Why are men so controlling?</td>\n",
       "      <td>1.0</td>\n",
       "    </tr>\n",
       "    <tr>\n",
       "      <th>1086968</th>\n",
       "      <td>d50134a3af5b0aaa1a58</td>\n",
       "      <td>Is Bernie Sanders only pretending to be a Jew so as to appeal to Millennials, who mostly hate white Christians?</td>\n",
       "      <td>1.0</td>\n",
       "    </tr>\n",
       "    <tr>\n",
       "      <th>559342</th>\n",
       "      <td>6d974dd03a9eb0808e0e</td>\n",
       "      <td>White people shouldn't even exist, don't you think?</td>\n",
       "      <td>1.0</td>\n",
       "    </tr>\n",
       "    <tr>\n",
       "      <th>235049</th>\n",
       "      <td>2dfbe6d042d66591514a</td>\n",
       "      <td>Why Dutch men afraid of intelligent female?</td>\n",
       "      <td>1.0</td>\n",
       "    </tr>\n",
       "    <tr>\n",
       "      <th>879007</th>\n",
       "      <td>ac37511755309145a987</td>\n",
       "      <td>Why do the black genes will be more powerful?</td>\n",
       "      <td>1.0</td>\n",
       "    </tr>\n",
       "    <tr>\n",
       "      <th>917905</th>\n",
       "      <td>b3de5a5dd5888d8ae5aa</td>\n",
       "      <td>Why do you think girls always falls for bad guys and ignore the good guys?</td>\n",
       "      <td>1.0</td>\n",
       "    </tr>\n",
       "  </tbody>\n",
       "</table>\n",
       "</div>"
      ],
      "text/plain": [
       "                          qid  \\\n",
       "895386   af6c68985f6531308aa5   \n",
       "908402   b1ff7c81869c86f3a904   \n",
       "522783   6657d77c6b8861eeada2   \n",
       "191145   255f0a44c4204122faf2   \n",
       "503804   62a5382b75d1c6cd7a9f   \n",
       "1086968  d50134a3af5b0aaa1a58   \n",
       "559342   6d974dd03a9eb0808e0e   \n",
       "235049   2dfbe6d042d66591514a   \n",
       "879007   ac37511755309145a987   \n",
       "917905   b3de5a5dd5888d8ae5aa   \n",
       "\n",
       "                                                                                                           question_text  \\\n",
       "895386   Would it be legal for Trump to order soldiers to shoot undocumented immigrants?                                   \n",
       "908402   Is Elon Musk a man or a woman?                                                                                    \n",
       "522783   Do Hindus who have converted to Islam eat beef?                                                                   \n",
       "191145   Why aren't women/ girls hot?                                                                                      \n",
       "503804   Why are men so controlling?                                                                                       \n",
       "1086968  Is Bernie Sanders only pretending to be a Jew so as to appeal to Millennials, who mostly hate white Christians?   \n",
       "559342   White people shouldn't even exist, don't you think?                                                               \n",
       "235049   Why Dutch men afraid of intelligent female?                                                                       \n",
       "879007   Why do the black genes will be more powerful?                                                                     \n",
       "917905   Why do you think girls always falls for bad guys and ignore the good guys?                                        \n",
       "\n",
       "         target  \n",
       "895386   1.0     \n",
       "908402   1.0     \n",
       "522783   1.0     \n",
       "191145   1.0     \n",
       "503804   1.0     \n",
       "1086968  1.0     \n",
       "559342   1.0     \n",
       "235049   1.0     \n",
       "879007   1.0     \n",
       "917905   1.0     "
      ]
     },
     "execution_count": 6,
     "metadata": {},
     "output_type": "execute_result"
    }
   ],
   "source": [
    "# To see what insincere question looks like\n",
    "train_df.where(train_df.target == 1).dropna().sample(10)"
   ]
  },
  {
   "cell_type": "code",
   "execution_count": 7,
   "metadata": {},
   "outputs": [
    {
     "data": {
      "text/html": [
       "<div>\n",
       "<style scoped>\n",
       "    .dataframe tbody tr th:only-of-type {\n",
       "        vertical-align: middle;\n",
       "    }\n",
       "\n",
       "    .dataframe tbody tr th {\n",
       "        vertical-align: top;\n",
       "    }\n",
       "\n",
       "    .dataframe thead th {\n",
       "        text-align: right;\n",
       "    }\n",
       "</style>\n",
       "<table border=\"1\" class=\"dataframe\">\n",
       "  <thead>\n",
       "    <tr style=\"text-align: right;\">\n",
       "      <th></th>\n",
       "      <th>qid</th>\n",
       "      <th>question_text</th>\n",
       "      <th>target</th>\n",
       "    </tr>\n",
       "  </thead>\n",
       "  <tbody>\n",
       "    <tr>\n",
       "      <th>809448</th>\n",
       "      <td>9e9ffced5ad23791d7e5</td>\n",
       "      <td>Why do light bulbs connected in parallel shorten the battery life?</td>\n",
       "      <td>0.0</td>\n",
       "    </tr>\n",
       "    <tr>\n",
       "      <th>904017</th>\n",
       "      <td>b124fa276f5192a46147</td>\n",
       "      <td>How much money annually does Quora contribute to the Clinton Foundation, in exchange for a manipulated liberal bias?</td>\n",
       "      <td>0.0</td>\n",
       "    </tr>\n",
       "    <tr>\n",
       "      <th>236337</th>\n",
       "      <td>2e3be02c71956549e6a9</td>\n",
       "      <td>What is the current state of the UK economy?</td>\n",
       "      <td>0.0</td>\n",
       "    </tr>\n",
       "    <tr>\n",
       "      <th>269945</th>\n",
       "      <td>34d7c8daff94129df444</td>\n",
       "      <td>How do I get out of soft drink?</td>\n",
       "      <td>0.0</td>\n",
       "    </tr>\n",
       "    <tr>\n",
       "      <th>715931</th>\n",
       "      <td>8c25ffaa6c6ea72a8749</td>\n",
       "      <td>Why was the Unites States referred to as a sleeping giant and is it still considered one today?</td>\n",
       "      <td>0.0</td>\n",
       "    </tr>\n",
       "    <tr>\n",
       "      <th>675080</th>\n",
       "      <td>8435a90b13075fbc9594</td>\n",
       "      <td>How nice is Sylhet?</td>\n",
       "      <td>0.0</td>\n",
       "    </tr>\n",
       "    <tr>\n",
       "      <th>544241</th>\n",
       "      <td>6a9fca14b378e9288161</td>\n",
       "      <td>How do I understand and be safe from electronic/electrical witchcraft?</td>\n",
       "      <td>0.0</td>\n",
       "    </tr>\n",
       "    <tr>\n",
       "      <th>1168438</th>\n",
       "      <td>e4f65153320499610fcb</td>\n",
       "      <td>What rank can I expect in WBJEE with a score of about 70/200?</td>\n",
       "      <td>0.0</td>\n",
       "    </tr>\n",
       "    <tr>\n",
       "      <th>108848</th>\n",
       "      <td>154fc6f4334e77451b23</td>\n",
       "      <td>What is the difference between Radiotheraphy technology and Radiology and imaging technology?</td>\n",
       "      <td>0.0</td>\n",
       "    </tr>\n",
       "    <tr>\n",
       "      <th>536572</th>\n",
       "      <td>6919b1a3061ff229393d</td>\n",
       "      <td>When you get married in Germany, can you change your middle name to your maiden name?</td>\n",
       "      <td>0.0</td>\n",
       "    </tr>\n",
       "  </tbody>\n",
       "</table>\n",
       "</div>"
      ],
      "text/plain": [
       "                          qid  \\\n",
       "809448   9e9ffced5ad23791d7e5   \n",
       "904017   b124fa276f5192a46147   \n",
       "236337   2e3be02c71956549e6a9   \n",
       "269945   34d7c8daff94129df444   \n",
       "715931   8c25ffaa6c6ea72a8749   \n",
       "675080   8435a90b13075fbc9594   \n",
       "544241   6a9fca14b378e9288161   \n",
       "1168438  e4f65153320499610fcb   \n",
       "108848   154fc6f4334e77451b23   \n",
       "536572   6919b1a3061ff229393d   \n",
       "\n",
       "                                                                                                                question_text  \\\n",
       "809448   Why do light bulbs connected in parallel shorten the battery life?                                                     \n",
       "904017   How much money annually does Quora contribute to the Clinton Foundation, in exchange for a manipulated liberal bias?   \n",
       "236337   What is the current state of the UK economy?                                                                           \n",
       "269945   How do I get out of soft drink?                                                                                        \n",
       "715931   Why was the Unites States referred to as a sleeping giant and is it still considered one today?                        \n",
       "675080   How nice is Sylhet?                                                                                                    \n",
       "544241   How do I understand and be safe from electronic/electrical witchcraft?                                                 \n",
       "1168438  What rank can I expect in WBJEE with a score of about 70/200?                                                          \n",
       "108848   What is the difference between Radiotheraphy technology and Radiology and imaging technology?                          \n",
       "536572   When you get married in Germany, can you change your middle name to your maiden name?                                  \n",
       "\n",
       "         target  \n",
       "809448   0.0     \n",
       "904017   0.0     \n",
       "236337   0.0     \n",
       "269945   0.0     \n",
       "715931   0.0     \n",
       "675080   0.0     \n",
       "544241   0.0     \n",
       "1168438  0.0     \n",
       "108848   0.0     \n",
       "536572   0.0     "
      ]
     },
     "execution_count": 7,
     "metadata": {},
     "output_type": "execute_result"
    }
   ],
   "source": [
    "# To see what sincere question looks like\n",
    "train_df.where(train_df.target == 0).dropna().sample(10)"
   ]
  },
  {
   "cell_type": "code",
   "execution_count": 8,
   "metadata": {},
   "outputs": [
    {
     "data": {
      "image/png": "[encoded data removed]",
      "text/plain": [
       "<Figure size 576x360 with 1 Axes>"
      ]
     },
     "metadata": {
      "needs_background": "light"
     },
     "output_type": "display_data"
    }
   ],
   "source": [
    "def plot_dist(data=train_df, data_type='Train'):\n",
    "    fig = plt.figure(figsize=(8,5))\n",
    "    uniques = data.target.unique()\n",
    "    counts = data.target.value_counts()\n",
    "    ax = sns.barplot(x=uniques,y=counts, dodge=False, hue=['0','1'])\n",
    "\n",
    "    ax.set(xlabel='Labels')\n",
    "    ax.set(ylabel='Counts')\n",
    "    handles, _ = ax.get_legend_handles_labels()\n",
    "    ax.legend(handles, [\"Positive\", \"Negative\"])\n",
    "    plt.title(data_type + ' dataset distribution by positive and negative questions')\n",
    "    plt.show()\n",
    "    \n",
    "plot_dist(train_df)"
   ]
  },
  {
   "cell_type": "code",
   "execution_count": 9,
   "metadata": {},
   "outputs": [],
   "source": [
    "nlp = spacy.load('en',disable=['parser', 'tagger', 'ner'])\n",
    "\n",
    "def tweet_clean(text):\n",
    "    text = text.lower()\n",
    "    text = re.sub(r'\\n', ' ', text) # remove the line breaker in each question\n",
    "    text = re.sub(r'[^A-Za-z0-9]+', ' ', text) # remove non alphanumeric character\n",
    "    text = re.sub(r'https?:/\\/\\S+', ' ', text) # remove links\n",
    "    return text\n",
    "\n",
    "def tokenizer(s):\n",
    "    return nlp(tweet_clean(s))"
   ]
  },
  {
   "cell_type": "code",
   "execution_count": 10,
   "metadata": {},
   "outputs": [
    {
     "name": "stderr",
     "output_type": "stream",
     "text": [
      "Progress: 100%|████████████████████████████████████████████████████████████████████████| 10/10 [00:00<?, ?it/s]\n"
     ]
    },
    {
     "name": "stdout",
     "output_type": "stream",
     "text": [
      "0    how did quebec nationalists see their province as a nation in the 1960s                                                                                                                                                                             \n",
      "1    do you have an adopted dog how would you encourage people to adopt and not shop                                                                                                                                                                     \n",
      "2    why does velocity affect time does velocity affect space geometry                                                                                                                                                                                   \n",
      "3    how did otto von guericke used the magdeburg hemispheres                                                                                                                                                                                            \n",
      "4    can i convert montra helicon d to a mountain bike by just changing the tyres                                                                                                                                                                        \n",
      "5    is gaza slowly becoming auschwitz dachau or treblinka for palestinians                                                                                                                                                                              \n",
      "6    why does quora automatically ban conservative opinions when reported but does not do the same for liberal views                                                                                                                                     \n",
      "7    is it crazy if i wash or wipe my groceries off germs are everywhere                                                                                                                                                                                 \n",
      "8    is there such a thing as dressing moderately and if so how is that different than dressing modestly                                                                                                                                                 \n",
      "9    is it just me or have you ever been in this phase wherein you became ignorant to the people you once loved completely disregarding their feelings lives so you get to have something go your way and feel temporarily at ease how did things change \n",
      "Name: question_text, dtype: object\n"
     ]
    }
   ],
   "source": [
    "# sample_df = train_df.question_text[0:10]\n",
    "# sample_df = sample_df.progress_apply(lambda x: tweet_clean(x))\n",
    "# print(sample_df)"
   ]
  },
  {
   "cell_type": "code",
   "execution_count": 11,
   "metadata": {},
   "outputs": [
    {
     "name": "stderr",
     "output_type": "stream",
     "text": [
      "Progress: 100%|███████████████████████████████████████████████████| 1306122/1306122 [00:24<00:00, 53515.24it/s]\n"
     ]
    }
   ],
   "source": [
    "train_df['question_text'] = train_df.question_text.progress_apply(lambda x: tweet_clean(x))"
   ]
  },
  {
   "cell_type": "code",
   "execution_count": 12,
   "metadata": {},
   "outputs": [
    {
     "data": {
      "text/html": [
       "<div>\n",
       "<style scoped>\n",
       "    .dataframe tbody tr th:only-of-type {\n",
       "        vertical-align: middle;\n",
       "    }\n",
       "\n",
       "    .dataframe tbody tr th {\n",
       "        vertical-align: top;\n",
       "    }\n",
       "\n",
       "    .dataframe thead th {\n",
       "        text-align: right;\n",
       "    }\n",
       "</style>\n",
       "<table border=\"1\" class=\"dataframe\">\n",
       "  <thead>\n",
       "    <tr style=\"text-align: right;\">\n",
       "      <th></th>\n",
       "      <th>qid</th>\n",
       "      <th>question_text</th>\n",
       "      <th>target</th>\n",
       "    </tr>\n",
       "  </thead>\n",
       "  <tbody>\n",
       "    <tr>\n",
       "      <th>0</th>\n",
       "      <td>00002165364db923c7e6</td>\n",
       "      <td>how did quebec nationalists see their province as a nation in the 1960s</td>\n",
       "      <td>0</td>\n",
       "    </tr>\n",
       "    <tr>\n",
       "      <th>1</th>\n",
       "      <td>000032939017120e6e44</td>\n",
       "      <td>do you have an adopted dog how would you encourage people to adopt and not shop</td>\n",
       "      <td>0</td>\n",
       "    </tr>\n",
       "    <tr>\n",
       "      <th>2</th>\n",
       "      <td>0000412ca6e4628ce2cf</td>\n",
       "      <td>why does velocity affect time does velocity affect space geometry</td>\n",
       "      <td>0</td>\n",
       "    </tr>\n",
       "    <tr>\n",
       "      <th>3</th>\n",
       "      <td>000042bf85aa498cd78e</td>\n",
       "      <td>how did otto von guericke used the magdeburg hemispheres</td>\n",
       "      <td>0</td>\n",
       "    </tr>\n",
       "    <tr>\n",
       "      <th>4</th>\n",
       "      <td>0000455dfa3e01eae3af</td>\n",
       "      <td>can i convert montra helicon d to a mountain bike by just changing the tyres</td>\n",
       "      <td>0</td>\n",
       "    </tr>\n",
       "  </tbody>\n",
       "</table>\n",
       "</div>"
      ],
      "text/plain": [
       "                    qid  \\\n",
       "0  00002165364db923c7e6   \n",
       "1  000032939017120e6e44   \n",
       "2  0000412ca6e4628ce2cf   \n",
       "3  000042bf85aa498cd78e   \n",
       "4  0000455dfa3e01eae3af   \n",
       "\n",
       "                                                                      question_text  \\\n",
       "0  how did quebec nationalists see their province as a nation in the 1960s            \n",
       "1  do you have an adopted dog how would you encourage people to adopt and not shop    \n",
       "2  why does velocity affect time does velocity affect space geometry                  \n",
       "3  how did otto von guericke used the magdeburg hemispheres                           \n",
       "4  can i convert montra helicon d to a mountain bike by just changing the tyres       \n",
       "\n",
       "   target  \n",
       "0  0       \n",
       "1  0       \n",
       "2  0       \n",
       "3  0       \n",
       "4  0       "
      ]
     },
     "execution_count": 12,
     "metadata": {},
     "output_type": "execute_result"
    }
   ],
   "source": [
    "train_df.head()"
   ]
  },
  {
   "cell_type": "code",
   "execution_count": 13,
   "metadata": {},
   "outputs": [],
   "source": [
    "def split_train_test(df, test_size=0.2):\n",
    "    train, val = train_test_split(df, test_size=test_size,random_state=42)\n",
    "    return train.reset_index(drop=True), val.reset_index(drop=True)"
   ]
  },
  {
   "cell_type": "code",
   "execution_count": 14,
   "metadata": {},
   "outputs": [],
   "source": [
    "traindf, valdf = split_train_test(train_df, test_size=0.2)"
   ]
  },
  {
   "cell_type": "code",
   "execution_count": 15,
   "metadata": {},
   "outputs": [
    {
     "data": {
      "text/plain": [
       "(1044897, 3)"
      ]
     },
     "execution_count": 15,
     "metadata": {},
     "output_type": "execute_result"
    },
    {
     "data": {
      "text/plain": [
       "(261225, 3)"
      ]
     },
     "execution_count": 15,
     "metadata": {},
     "output_type": "execute_result"
    }
   ],
   "source": [
    "traindf.shape\n",
    "valdf.shape"
   ]
  },
  {
   "cell_type": "code",
   "execution_count": 16,
   "metadata": {},
   "outputs": [],
   "source": [
    "# Store the dataframe into csv to read later as TabularDataset\n",
    "traindf.to_csv(data_root/'traindf.csv', index=False)\n",
    "valdf.to_csv(data_root/'valdf.csv', index=False)"
   ]
  },
  {
   "cell_type": "code",
   "execution_count": 17,
   "metadata": {},
   "outputs": [
    {
     "data": {
      "text/plain": [
       "'how did quebec nationalists see their province as a nation in the 1960s '"
      ]
     },
     "execution_count": 17,
     "metadata": {},
     "output_type": "execute_result"
    }
   ],
   "source": [
    "train_df['question_text'][0]"
   ]
  },
  {
   "cell_type": "markdown",
   "metadata": {},
   "source": [
    "## DATA CLEANING"
   ]
  },
  {
   "cell_type": "code",
   "execution_count": 18,
   "metadata": {},
   "outputs": [],
   "source": [
    "def splitter(x): return x.split()"
   ]
  },
  {
   "cell_type": "code",
   "execution_count": 19,
   "metadata": {},
   "outputs": [],
   "source": [
    "TEXT = data.Field(sequential=True, tokenize=splitter, include_lengths=True, use_vocab=True)\n",
    "LABEL = data.Field(sequential=False, use_vocab=False, pad_token=None, unk_token=None)\n",
    "\n",
    "train_fields = [\n",
    "    ('qid', None),\n",
    "    ('question_text', TEXT),\n",
    "    ('target', LABEL)\n",
    "]"
   ]
  },
  {
   "cell_type": "code",
   "execution_count": 20,
   "metadata": {},
   "outputs": [
    {
     "name": "stdout",
     "output_type": "stream",
     "text": [
      "Wall time: 20.6 s\n"
     ]
    }
   ],
   "source": [
    "%%time\n",
    "trainds, valds = data.TabularDataset.splits(path='./input/', format='csv', \n",
    "                                            train='traindf.csv', validation='valdf.csv', \n",
    "                                            fields=train_fields, skip_header=True)"
   ]
  },
  {
   "cell_type": "code",
   "execution_count": 21,
   "metadata": {},
   "outputs": [
    {
     "data": {
      "text/plain": [
       "1044897"
      ]
     },
     "execution_count": 21,
     "metadata": {},
     "output_type": "execute_result"
    }
   ],
   "source": [
    "len(trainds)"
   ]
  },
  {
   "cell_type": "code",
   "execution_count": 22,
   "metadata": {},
   "outputs": [
    {
     "data": {
      "text/plain": [
       "dict_items([('qid', None), ('question_text', <torchtext.data.field.Field object at 0x0000015186823AC8>), ('target', <torchtext.data.field.Field object at 0x0000015186823940>)])"
      ]
     },
     "execution_count": 22,
     "metadata": {},
     "output_type": "execute_result"
    },
    {
     "data": {
      "text/plain": [
       "'0'"
      ]
     },
     "execution_count": 22,
     "metadata": {},
     "output_type": "execute_result"
    },
    {
     "data": {
      "text/plain": [
       "['how',\n",
       " 'is',\n",
       " 'strategic',\n",
       " 'positioning',\n",
       " 'is',\n",
       " 'different',\n",
       " 'from',\n",
       " 'marketing',\n",
       " 'positioning']"
      ]
     },
     "execution_count": 22,
     "metadata": {},
     "output_type": "execute_result"
    }
   ],
   "source": [
    "ex = trainds.examples[0]\n",
    "trainds.fields.items()\n",
    "ex.target\n",
    "ex.question_text"
   ]
  },
  {
   "cell_type": "code",
   "execution_count": 23,
   "metadata": {},
   "outputs": [
    {
     "name": "stdout",
     "output_type": "stream",
     "text": [
      "Wall time: 328 ms\n"
     ]
    }
   ],
   "source": [
    "%%time\n",
    "vec = vocab.Vectors('word2vec.txt', './input/')"
   ]
  },
  {
   "cell_type": "code",
   "execution_count": 24,
   "metadata": {},
   "outputs": [
    {
     "data": {
      "text/plain": [
       "258110"
      ]
     },
     "execution_count": 24,
     "metadata": {},
     "output_type": "execute_result"
    }
   ],
   "source": [
    "len(vec.vectors)"
   ]
  },
  {
   "cell_type": "code",
   "execution_count": 25,
   "metadata": {},
   "outputs": [
    {
     "name": "stdout",
     "output_type": "stream",
     "text": [
      "Wall time: 17.8 s\n"
     ]
    }
   ],
   "source": [
    "%%time\n",
    "TEXT.build_vocab(trainds, valds, max_size=258110, vectors=vec)\n",
    "LABEL.build_vocab(trainds)"
   ]
  },
  {
   "cell_type": "code",
   "execution_count": 26,
   "metadata": {},
   "outputs": [
    {
     "data": {
      "text/plain": [
       "torch.Size([192520, 50])"
      ]
     },
     "execution_count": 26,
     "metadata": {},
     "output_type": "execute_result"
    }
   ],
   "source": [
    "TEXT.vocab.vectors.shape"
   ]
  },
  {
   "cell_type": "code",
   "execution_count": 27,
   "metadata": {},
   "outputs": [
    {
     "data": {
      "text/plain": [
       "tensor([-1.5454, -0.3855, -1.3414, -0.1820,  0.9111, -0.0511,  2.3909,  0.0982,\n",
       "        -1.2502,  2.0930,  0.4491,  2.8606, -0.1207, -0.8120, -1.3948, -2.5018,\n",
       "        -0.8181,  0.5812,  4.7760,  0.1531, -1.6925,  1.2428, -0.4360,  0.9675,\n",
       "         1.3102,  0.2022,  1.0768, -0.2839, -2.1971, -0.6728,  1.5275,  3.3601,\n",
       "         2.2180, -0.0426, -0.4355, -0.2776,  1.4450, -0.6309,  0.7143, -0.4283,\n",
       "         0.4671,  1.4224, -3.1848,  0.8012,  3.7483, -1.3917, -1.5730, -1.9213,\n",
       "         1.7973, -3.2339])"
      ]
     },
     "execution_count": 27,
     "metadata": {},
     "output_type": "execute_result"
    }
   ],
   "source": [
    "TEXT.vocab.vectors[TEXT.vocab.stoi['the']]"
   ]
  },
  {
   "cell_type": "code",
   "execution_count": 28,
   "metadata": {},
   "outputs": [],
   "source": [
    "traindl, valdl = data.BucketIterator.splits(datasets=(trainds, valds), \n",
    "                                            batch_sizes=(3,3), \n",
    "                                            sort_key=lambda x: len(x.question_text), \n",
    "                                            device=None, \n",
    "                                            sort_within_batch=True, \n",
    "                                            repeat=False)"
   ]
  },
  {
   "cell_type": "code",
   "execution_count": 29,
   "metadata": {},
   "outputs": [
    {
     "data": {
      "text/plain": [
       "(348299, 87075)"
      ]
     },
     "execution_count": 29,
     "metadata": {},
     "output_type": "execute_result"
    }
   ],
   "source": [
    "len(traindl), len(valdl)"
   ]
  },
  {
   "cell_type": "code",
   "execution_count": 30,
   "metadata": {},
   "outputs": [
    {
     "data": {
      "text/plain": [
       "(tensor([[    3,    32,    32],\n",
       "         [    4,   786,     4],\n",
       "         [    2,   282,    56],\n",
       "         [ 1963,  4165,     6],\n",
       "         [  795,    24,   376],\n",
       "         [    8,  9367,     7],\n",
       "         [  238,   252, 18906],\n",
       "         [  333,  2776,     5],\n",
       "         [   23,    61,   869],\n",
       "         [  215,  2429,     8],\n",
       "         [   23,    30,   111],\n",
       "         [    2,   253,   471],\n",
       "         [  800,   846,    24],\n",
       "         [    8,  1171,  4020],\n",
       "         [ 2388,   244, 26901],\n",
       "         [    7,     2,    18],\n",
       "         [  241,    63,   206],\n",
       "         [ 1301,     1,     1]]), tensor([18, 17, 17]))"
      ]
     },
     "execution_count": 30,
     "metadata": {},
     "output_type": "execute_result"
    }
   ],
   "source": [
    "batch = next(iter(traindl))\n",
    "\n",
    "batch.question_text"
   ]
  },
  {
   "cell_type": "code",
   "execution_count": null,
   "metadata": {},
   "outputs": [],
   "source": []
  }
 ],
 "metadata": {
  "kernelspec": {
   "display_name": "Python 3",
   "language": "python",
   "name": "python3"
  },
  "language_info": {
   "codemirror_mode": {
    "name": "ipython",
    "version": 3
   },
   "file_extension": ".py",
   "mimetype": "text/x-python",
   "name": "python",
   "nbconvert_exporter": "python",
   "pygments_lexer": "ipython3",
   "version": "3.7.0"
  }
 },
 "nbformat": 4,
 "nbformat_minor": 1
}
